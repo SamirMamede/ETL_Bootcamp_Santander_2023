{
 "cells": [
  {
   "cell_type": "markdown",
   "metadata": {},
   "source": [
    "## BOOTCAMP SANTANDER 2K23\n",
    "\n",
    "#### PIPELINE DE ETL"
   ]
  },
  {
   "cell_type": "code",
   "execution_count": 5,
   "metadata": {},
   "outputs": [
    {
     "name": "stdout",
     "output_type": "stream",
     "text": [
      "[6, 1]\n"
     ]
    }
   ],
   "source": [
    "import pandas as pd\n",
    "import requests\n",
    "import json\n",
    "import openai\n",
    "\n",
    "from keys import openaikey\n",
    "\n",
    "openai.api_key = openaikey\n",
    "api = 'https://sdw-2023-prd.up.railway.app'\n",
    "df = pd.read_csv('database.csv')\n",
    "users_ids = df['UserID'].tolist()\n",
    "\n",
    "print(users_ids)\n",
    "#display(df)"
   ]
  },
  {
   "cell_type": "markdown",
   "metadata": {},
   "source": [
    "#### EXTRACT DATA"
   ]
  },
  {
   "cell_type": "code",
   "execution_count": null,
   "metadata": {},
   "outputs": [],
   "source": [
    "def get_user(id):\n",
    "    response = requests.get(f'{api}/users/{id}')\n",
    "    return response.json() if response.status_code == 200 else None\n",
    "\n",
    "users = [user for id in users_ids if (user := get_user(id)) is not None]\n",
    "print(json.dumps(users, indent=2))"
   ]
  },
  {
   "cell_type": "markdown",
   "metadata": {},
   "source": [
    "#### TRANSFORM DATA"
   ]
  },
  {
   "cell_type": "code",
   "execution_count": null,
   "metadata": {},
   "outputs": [],
   "source": [
    "def generate_aimessage(user):\n",
    " completion = openai.ChatCompletion.create(\n",
    "    model=\"gpt-3.5-turbo\",\n",
    "    messages=[\n",
    "         \n",
    "    # SET AI\n",
    "    {\"role\": \"system\", \n",
    "    \"content\": \"Você é um especialista em marketing bancário.\"\n",
    "    },\n",
    "            \n",
    "    # MESSAGE USER\n",
    "    {\"role\": \"user\", \n",
    "    \"content\": f\"Crie uma mensagem personalizada para {user['name']} sobre a importância de investir seu dinheiro e dê algum exemplo de baixo risco com palavras simples, como se tivesse falando com um leigo no assunto. (máximo de 150 caracteres, use esse limite)\"\n",
    "    }\n",
    "             \n",
    "    ]\n",
    "  )\n",
    " return completion.choices[0].message.content.strip('\\\"')\n",
    "\n",
    "for user in users:\n",
    "  marketing = generate_aimessage(user)\n",
    "  user['news'].append({\n",
    "    \"description\": marketing\n",
    "  })"
   ]
  }
 ],
 "metadata": {
  "kernelspec": {
   "display_name": "venv",
   "language": "python",
   "name": "python3"
  },
  "language_info": {
   "codemirror_mode": {
    "name": "ipython",
    "version": 3
   },
   "file_extension": ".py",
   "mimetype": "text/x-python",
   "name": "python",
   "nbconvert_exporter": "python",
   "pygments_lexer": "ipython3",
   "version": "3.11.4"
  },
  "orig_nbformat": 4
 },
 "nbformat": 4,
 "nbformat_minor": 2
}
