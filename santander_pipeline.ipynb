{
 "cells": [
  {
   "cell_type": "markdown",
   "metadata": {},
   "source": [
    "# PIPELINE DE ETL"
   ]
  },
  {
   "cell_type": "code",
   "execution_count": null,
   "metadata": {},
   "outputs": [],
   "source": [
    "import pandas as pd\n",
    "import requests\n",
    "import json\n",
    "\n",
    "api= 'https://sdw-2023-prd.up.railway.app'\n",
    "df = pd.read_csv('database.csv')\n",
    "users_ids = df['UserID'].tolist()\n",
    "print(users_ids)\n",
    "#display(df)\n",
    "\n",
    "def get_user(id):\n",
    "    response = requests.get(f'{api}/users/{id}')\n",
    "    return response.json() if response.status_code == 200 else None\n",
    "\n",
    "users = [user for id in users_ids if (user := get_user(id)) is not None]\n",
    "print(json.dumps(users, indent=2))"
   ]
  }
 ],
 "metadata": {
  "kernelspec": {
   "display_name": "venv",
   "language": "python",
   "name": "python3"
  },
  "language_info": {
   "codemirror_mode": {
    "name": "ipython",
    "version": 3
   },
   "file_extension": ".py",
   "mimetype": "text/x-python",
   "name": "python",
   "nbconvert_exporter": "python",
   "pygments_lexer": "ipython3",
   "version": "3.11.4"
  },
  "orig_nbformat": 4
 },
 "nbformat": 4,
 "nbformat_minor": 2
}
