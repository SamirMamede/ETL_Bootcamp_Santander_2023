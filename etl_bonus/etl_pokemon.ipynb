{
 "cells": [
  {
   "cell_type": "code",
   "execution_count": null,
   "metadata": {},
   "outputs": [],
   "source": [
    "import pandas as pd\n",
    "\n",
    "poke = pd.read_csv('Pokemon.csv')\n",
    "poke.head()"
   ]
  },
  {
   "cell_type": "code",
   "execution_count": 3,
   "metadata": {},
   "outputs": [],
   "source": [
    "poke['Power'] = poke['Total']\n",
    "poke.drop(columns='Total', inplace=True)\n",
    "poke.drop(['Generation'], axis=1, inplace=True)"
   ]
  },
  {
   "cell_type": "code",
   "execution_count": null,
   "metadata": {},
   "outputs": [],
   "source": [
    "poke.sort_values(['Power'], ascending=False)"
   ]
  },
  {
   "cell_type": "code",
   "execution_count": null,
   "metadata": {},
   "outputs": [],
   "source": [
    "poke['Power'].median() "
   ]
  },
  {
   "cell_type": "code",
   "execution_count": null,
   "metadata": {},
   "outputs": [],
   "source": [
    "# poke.to_csv('ranking_power_pokemon.csv')\n",
    "poke_strong = poke.loc[poke['Power'] > 450]\n",
    "poke_common = poke.loc[poke['Power'] <= 450]\n",
    "\n",
    "display(poke_strong)\n",
    "display(poke_common)"
   ]
  },
  {
   "cell_type": "code",
   "execution_count": null,
   "metadata": {},
   "outputs": [],
   "source": [
    "poke.groupby(['Legendary']).count()"
   ]
  },
  {
   "cell_type": "code",
   "execution_count": null,
   "metadata": {},
   "outputs": [],
   "source": [
    "poke['Legendary'] = poke['Legendary'].replace(True, 1)\n",
    "poke['Legendary'] = poke['Legendary'].replace(False, 0)\n",
    "\n",
    "display(poke)"
   ]
  }
 ],
 "metadata": {
  "kernelspec": {
   "display_name": "venv2",
   "language": "python",
   "name": "python3"
  },
  "language_info": {
   "codemirror_mode": {
    "name": "ipython",
    "version": 3
   },
   "file_extension": ".py",
   "mimetype": "text/x-python",
   "name": "python",
   "nbconvert_exporter": "python",
   "pygments_lexer": "ipython3",
   "version": "3.11.4"
  },
  "orig_nbformat": 4
 },
 "nbformat": 4,
 "nbformat_minor": 2
}
